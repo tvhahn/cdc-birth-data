{
 "cells": [
  {
   "cell_type": "code",
   "execution_count": 1,
   "metadata": {},
   "outputs": [],
   "source": [
    "import numpy as np\n",
    "import pandas as pd\n",
    "import matplotlib.pyplot as plt\n",
    "from pathlib import Path\n",
    "import pathlib\n",
    "import os\n",
    "import seaborn as sns\n",
    "\n",
    "%matplotlib inline\n",
    "%load_ext autoreload\n",
    "%autoreload 2"
   ]
  },
  {
   "cell_type": "code",
   "execution_count": 2,
   "metadata": {},
   "outputs": [
    {
     "name": "stdout",
     "output_type": "stream",
     "text": [
      "/home/tim/Documents/cdc-birth-data\n"
     ]
    }
   ],
   "source": [
    "root_dir = Path.cwd().parent.parent\n",
    "print(root_dir)\n",
    "folder_raw_data = root_dir / 'data/raw'\n",
    "folder_processed_data = root_dir / 'data/processed'\n",
    "folder_external_data = root_dir / 'data/external'"
   ]
  },
  {
   "cell_type": "code",
   "execution_count": 3,
   "metadata": {},
   "outputs": [
    {
     "name": "stderr",
     "output_type": "stream",
     "text": [
      "/home/tim/miniconda3/envs/cdcbirth/lib/python3.8/site-packages/IPython/core/interactiveshell.py:3444: DtypeWarning: Columns (3) have mixed types.Specify dtype option on import or set low_memory=False.\n",
      "  exec(code_obj, self.user_global_ns, self.user_ns)\n"
     ]
    },
    {
     "data": {
      "text/html": [
       "<div>\n",
       "<style scoped>\n",
       "    .dataframe tbody tr th:only-of-type {\n",
       "        vertical-align: middle;\n",
       "    }\n",
       "\n",
       "    .dataframe tbody tr th {\n",
       "        vertical-align: top;\n",
       "    }\n",
       "\n",
       "    .dataframe thead th {\n",
       "        text-align: right;\n",
       "    }\n",
       "</style>\n",
       "<table border=\"1\" class=\"dataframe\">\n",
       "  <thead>\n",
       "    <tr style=\"text-align: right;\">\n",
       "      <th></th>\n",
       "      <th>dob_yy</th>\n",
       "      <th>dob_mm</th>\n",
       "      <th>mrcntyfips</th>\n",
       "      <th>mrcityfips</th>\n",
       "      <th>state_name_mr</th>\n",
       "      <th>mrstatefips</th>\n",
       "      <th>births</th>\n",
       "    </tr>\n",
       "  </thead>\n",
       "  <tbody>\n",
       "    <tr>\n",
       "      <th>0</th>\n",
       "      <td>1982</td>\n",
       "      <td>1</td>\n",
       "      <td>0</td>\n",
       "      <td>ZZZ</td>\n",
       "      <td>United States</td>\n",
       "      <td>0</td>\n",
       "      <td>483</td>\n",
       "    </tr>\n",
       "    <tr>\n",
       "      <th>1</th>\n",
       "      <td>1982</td>\n",
       "      <td>1</td>\n",
       "      <td>1001</td>\n",
       "      <td>999</td>\n",
       "      <td>Alabama</td>\n",
       "      <td>1</td>\n",
       "      <td>44</td>\n",
       "    </tr>\n",
       "    <tr>\n",
       "      <th>2</th>\n",
       "      <td>1982</td>\n",
       "      <td>1</td>\n",
       "      <td>1003</td>\n",
       "      <td>999</td>\n",
       "      <td>Alabama</td>\n",
       "      <td>1</td>\n",
       "      <td>90</td>\n",
       "    </tr>\n",
       "    <tr>\n",
       "      <th>3</th>\n",
       "      <td>1982</td>\n",
       "      <td>1</td>\n",
       "      <td>1005</td>\n",
       "      <td>999</td>\n",
       "      <td>Alabama</td>\n",
       "      <td>1</td>\n",
       "      <td>33</td>\n",
       "    </tr>\n",
       "    <tr>\n",
       "      <th>4</th>\n",
       "      <td>1982</td>\n",
       "      <td>1</td>\n",
       "      <td>1007</td>\n",
       "      <td>999</td>\n",
       "      <td>Alabama</td>\n",
       "      <td>1</td>\n",
       "      <td>22</td>\n",
       "    </tr>\n",
       "  </tbody>\n",
       "</table>\n",
       "</div>"
      ],
      "text/plain": [
       "   dob_yy  dob_mm  mrcntyfips mrcityfips  state_name_mr  mrstatefips  births\n",
       "0    1982       1           0        ZZZ  United States            0     483\n",
       "1    1982       1        1001        999        Alabama            1      44\n",
       "2    1982       1        1003        999        Alabama            1      90\n",
       "3    1982       1        1005        999        Alabama            1      33\n",
       "4    1982       1        1007        999        Alabama            1      22"
      ]
     },
     "execution_count": 3,
     "metadata": {},
     "output_type": "execute_result"
    }
   ],
   "source": [
    "# load births_with_geo_apgar_consolidated.csv.gz as df\n",
    "df = pd.read_csv(folder_processed_data / 'births_with_geo_apgar_consolidated.csv.gz', compression='gzip')\n",
    "df.head()"
   ]
  },
  {
   "cell_type": "code",
   "execution_count": null,
   "metadata": {},
   "outputs": [],
   "source": []
  }
 ],
 "metadata": {
  "interpreter": {
   "hash": "2cd1d96176637bf253591a6809fe5298717a51fdca1c0606421ece9124eefcf3"
  },
  "kernelspec": {
   "display_name": "Python 3.8.12 64-bit ('cdcbirth': conda)",
   "language": "python",
   "name": "python3"
  },
  "language_info": {
   "codemirror_mode": {
    "name": "ipython",
    "version": 3
   },
   "file_extension": ".py",
   "mimetype": "text/x-python",
   "name": "python",
   "nbconvert_exporter": "python",
   "pygments_lexer": "ipython3",
   "version": "3.8.12"
  },
  "orig_nbformat": 4
 },
 "nbformat": 4,
 "nbformat_minor": 2
}
