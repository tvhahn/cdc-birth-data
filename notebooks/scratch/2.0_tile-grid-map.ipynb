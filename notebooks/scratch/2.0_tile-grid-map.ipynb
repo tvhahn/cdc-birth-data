{
 "cells": [
  {
   "cell_type": "code",
   "execution_count": 1,
   "metadata": {},
   "outputs": [],
   "source": [
    "import numpy as np\n",
    "import pandas as pd\n",
    "import matplotlib.pyplot as plt\n",
    "from pathlib import Path\n",
    "import pathlib\n",
    "\n",
    "%load_ext autoreload\n",
    "%autoreload 2"
   ]
  },
  {
   "cell_type": "code",
   "execution_count": 2,
   "metadata": {},
   "outputs": [
    {
     "name": "stdout",
     "output_type": "stream",
     "text": [
      "/home/tim/Documents/cdc-birth-data\n"
     ]
    }
   ],
   "source": [
    "# load the data\n",
    "\n",
    "root_dir = Path.cwd().parent.parent\n",
    "print(root_dir)\n",
    "path_processed_data_dir = root_dir / 'data/processed'\n",
    "data_file = path_processed_data_dir / 'births_with_geo_apgar_consolidated.csv.gz'"
   ]
  },
  {
   "cell_type": "code",
   "execution_count": 3,
   "metadata": {},
   "outputs": [
    {
     "name": "stderr",
     "output_type": "stream",
     "text": [
      "/home/tim/miniconda3/envs/cdcbirth/lib/python3.8/site-packages/IPython/core/interactiveshell.py:3444: DtypeWarning: Columns (3) have mixed types.Specify dtype option on import or set low_memory=False.\n",
      "  exec(code_obj, self.user_global_ns, self.user_ns)\n"
     ]
    },
    {
     "data": {
      "text/html": [
       "<div>\n",
       "<style scoped>\n",
       "    .dataframe tbody tr th:only-of-type {\n",
       "        vertical-align: middle;\n",
       "    }\n",
       "\n",
       "    .dataframe tbody tr th {\n",
       "        vertical-align: top;\n",
       "    }\n",
       "\n",
       "    .dataframe thead th {\n",
       "        text-align: right;\n",
       "    }\n",
       "</style>\n",
       "<table border=\"1\" class=\"dataframe\">\n",
       "  <thead>\n",
       "    <tr style=\"text-align: right;\">\n",
       "      <th></th>\n",
       "      <th>dob_yy</th>\n",
       "      <th>dob_mm</th>\n",
       "      <th>mrcntyfips</th>\n",
       "      <th>mrcityfips</th>\n",
       "      <th>state_name_mr</th>\n",
       "      <th>mrstatefips</th>\n",
       "      <th>apgar5</th>\n",
       "      <th>births</th>\n",
       "    </tr>\n",
       "  </thead>\n",
       "  <tbody>\n",
       "    <tr>\n",
       "      <th>9</th>\n",
       "      <td>1982</td>\n",
       "      <td>1</td>\n",
       "      <td>1001</td>\n",
       "      <td>999</td>\n",
       "      <td>Alabama</td>\n",
       "      <td>1</td>\n",
       "      <td>5</td>\n",
       "      <td>1</td>\n",
       "    </tr>\n",
       "    <tr>\n",
       "      <th>10</th>\n",
       "      <td>1982</td>\n",
       "      <td>1</td>\n",
       "      <td>1001</td>\n",
       "      <td>999</td>\n",
       "      <td>Alabama</td>\n",
       "      <td>1</td>\n",
       "      <td>7</td>\n",
       "      <td>2</td>\n",
       "    </tr>\n",
       "    <tr>\n",
       "      <th>11</th>\n",
       "      <td>1982</td>\n",
       "      <td>1</td>\n",
       "      <td>1001</td>\n",
       "      <td>999</td>\n",
       "      <td>Alabama</td>\n",
       "      <td>1</td>\n",
       "      <td>8</td>\n",
       "      <td>6</td>\n",
       "    </tr>\n",
       "    <tr>\n",
       "      <th>12</th>\n",
       "      <td>1982</td>\n",
       "      <td>1</td>\n",
       "      <td>1001</td>\n",
       "      <td>999</td>\n",
       "      <td>Alabama</td>\n",
       "      <td>1</td>\n",
       "      <td>9</td>\n",
       "      <td>18</td>\n",
       "    </tr>\n",
       "    <tr>\n",
       "      <th>13</th>\n",
       "      <td>1982</td>\n",
       "      <td>1</td>\n",
       "      <td>1001</td>\n",
       "      <td>999</td>\n",
       "      <td>Alabama</td>\n",
       "      <td>1</td>\n",
       "      <td>10</td>\n",
       "      <td>17</td>\n",
       "    </tr>\n",
       "  </tbody>\n",
       "</table>\n",
       "</div>"
      ],
      "text/plain": [
       "    dob_yy  dob_mm  mrcntyfips mrcityfips state_name_mr  mrstatefips  apgar5  \\\n",
       "9     1982       1        1001        999       Alabama            1       5   \n",
       "10    1982       1        1001        999       Alabama            1       7   \n",
       "11    1982       1        1001        999       Alabama            1       8   \n",
       "12    1982       1        1001        999       Alabama            1       9   \n",
       "13    1982       1        1001        999       Alabama            1      10   \n",
       "\n",
       "    births  \n",
       "9        1  \n",
       "10       2  \n",
       "11       6  \n",
       "12      18  \n",
       "13      17  "
      ]
     },
     "execution_count": 3,
     "metadata": {},
     "output_type": "execute_result"
    }
   ],
   "source": [
    "df = pd.read_csv(data_file, compression='gzip',)\n",
    "\n",
    "# drop all rows with state_name = 'United States'\n",
    "df = df[(df.state_name_mr != 'United States') & (df.state_name_mr != 'Puerto Rico')]\n",
    "df.head()"
   ]
  },
  {
   "cell_type": "code",
   "execution_count": 4,
   "metadata": {},
   "outputs": [
    {
     "data": {
      "text/plain": [
       "array(['Alabama', 'Alaska', 'Arizona', 'Arkansas', 'California',\n",
       "       'Colorado', 'Connecticut', 'Delaware', 'District of Columbia',\n",
       "       'Florida', 'Georgia', 'Hawaii', 'Idaho', 'Illinois', 'Indiana',\n",
       "       'Iowa', 'Kansas', 'Kentucky', 'Louisiana', 'Maine', 'Maryland',\n",
       "       'Massachusetts', 'Michigan', 'Minnesota', 'Mississippi',\n",
       "       'Missouri', 'Montana', 'Nebraska', 'Nevada', 'New Hampshire',\n",
       "       'New Jersey', 'New Mexico', 'New York', 'North Carolina',\n",
       "       'North Dakota', 'Ohio', 'Oklahoma', 'Oregon', 'Pennsylvania',\n",
       "       'Rhode Island', 'South Carolina', 'South Dakota', 'Tennessee',\n",
       "       'Texas', 'Utah', 'Vermont', 'Virginia', 'Washington',\n",
       "       'West Virginia', 'Wisconsin', 'Wyoming'], dtype=object)"
      ]
     },
     "execution_count": 4,
     "metadata": {},
     "output_type": "execute_result"
    }
   ],
   "source": [
    "df['state_name_mr'].unique()"
   ]
  },
  {
   "cell_type": "code",
   "execution_count": 5,
   "metadata": {},
   "outputs": [
    {
     "data": {
      "text/html": [
       "<div>\n",
       "<style scoped>\n",
       "    .dataframe tbody tr th:only-of-type {\n",
       "        vertical-align: middle;\n",
       "    }\n",
       "\n",
       "    .dataframe tbody tr th {\n",
       "        vertical-align: top;\n",
       "    }\n",
       "\n",
       "    .dataframe thead th {\n",
       "        text-align: right;\n",
       "    }\n",
       "</style>\n",
       "<table border=\"1\" class=\"dataframe\">\n",
       "  <thead>\n",
       "    <tr style=\"text-align: right;\">\n",
       "      <th></th>\n",
       "      <th>state_name_mr</th>\n",
       "      <th>state_abbr</th>\n",
       "    </tr>\n",
       "  </thead>\n",
       "  <tbody>\n",
       "    <tr>\n",
       "      <th>0</th>\n",
       "      <td>Alabama</td>\n",
       "      <td>AL</td>\n",
       "    </tr>\n",
       "    <tr>\n",
       "      <th>1</th>\n",
       "      <td>Alaska</td>\n",
       "      <td>AK</td>\n",
       "    </tr>\n",
       "    <tr>\n",
       "      <th>2</th>\n",
       "      <td>American Samoa</td>\n",
       "      <td>AS</td>\n",
       "    </tr>\n",
       "    <tr>\n",
       "      <th>3</th>\n",
       "      <td>Arizona</td>\n",
       "      <td>AZ</td>\n",
       "    </tr>\n",
       "    <tr>\n",
       "      <th>4</th>\n",
       "      <td>Arkansas</td>\n",
       "      <td>AR</td>\n",
       "    </tr>\n",
       "  </tbody>\n",
       "</table>\n",
       "</div>"
      ],
      "text/plain": [
       "    state_name_mr state_abbr\n",
       "0         Alabama         AL\n",
       "1          Alaska         AK\n",
       "2  American Samoa         AS\n",
       "3         Arizona         AZ\n",
       "4        Arkansas         AR"
      ]
     },
     "execution_count": 5,
     "metadata": {},
     "output_type": "execute_result"
    }
   ],
   "source": [
    "# load df_abbr\n",
    "df_abbr = pd.read_csv(root_dir / 'data/external/state_abbreviations.csv', names=['state_name_mr', 'state_abbr'])\n",
    "df_abbr.head()"
   ]
  },
  {
   "cell_type": "code",
   "execution_count": 6,
   "metadata": {},
   "outputs": [
    {
     "data": {
      "text/html": [
       "<div>\n",
       "<style scoped>\n",
       "    .dataframe tbody tr th:only-of-type {\n",
       "        vertical-align: middle;\n",
       "    }\n",
       "\n",
       "    .dataframe tbody tr th {\n",
       "        vertical-align: top;\n",
       "    }\n",
       "\n",
       "    .dataframe thead th {\n",
       "        text-align: right;\n",
       "    }\n",
       "</style>\n",
       "<table border=\"1\" class=\"dataframe\">\n",
       "  <thead>\n",
       "    <tr style=\"text-align: right;\">\n",
       "      <th></th>\n",
       "      <th>dob_yy</th>\n",
       "      <th>dob_mm</th>\n",
       "      <th>mrcntyfips</th>\n",
       "      <th>mrcityfips</th>\n",
       "      <th>state_name_mr</th>\n",
       "      <th>mrstatefips</th>\n",
       "      <th>apgar5</th>\n",
       "      <th>births</th>\n",
       "      <th>state_abbr</th>\n",
       "    </tr>\n",
       "  </thead>\n",
       "  <tbody>\n",
       "    <tr>\n",
       "      <th>0</th>\n",
       "      <td>1982</td>\n",
       "      <td>1</td>\n",
       "      <td>1001</td>\n",
       "      <td>999</td>\n",
       "      <td>Alabama</td>\n",
       "      <td>1</td>\n",
       "      <td>5</td>\n",
       "      <td>1</td>\n",
       "      <td>AL</td>\n",
       "    </tr>\n",
       "    <tr>\n",
       "      <th>1</th>\n",
       "      <td>1982</td>\n",
       "      <td>1</td>\n",
       "      <td>1001</td>\n",
       "      <td>999</td>\n",
       "      <td>Alabama</td>\n",
       "      <td>1</td>\n",
       "      <td>7</td>\n",
       "      <td>2</td>\n",
       "      <td>AL</td>\n",
       "    </tr>\n",
       "    <tr>\n",
       "      <th>2</th>\n",
       "      <td>1982</td>\n",
       "      <td>1</td>\n",
       "      <td>1001</td>\n",
       "      <td>999</td>\n",
       "      <td>Alabama</td>\n",
       "      <td>1</td>\n",
       "      <td>8</td>\n",
       "      <td>6</td>\n",
       "      <td>AL</td>\n",
       "    </tr>\n",
       "    <tr>\n",
       "      <th>3</th>\n",
       "      <td>1982</td>\n",
       "      <td>1</td>\n",
       "      <td>1001</td>\n",
       "      <td>999</td>\n",
       "      <td>Alabama</td>\n",
       "      <td>1</td>\n",
       "      <td>9</td>\n",
       "      <td>18</td>\n",
       "      <td>AL</td>\n",
       "    </tr>\n",
       "    <tr>\n",
       "      <th>4</th>\n",
       "      <td>1982</td>\n",
       "      <td>1</td>\n",
       "      <td>1001</td>\n",
       "      <td>999</td>\n",
       "      <td>Alabama</td>\n",
       "      <td>1</td>\n",
       "      <td>10</td>\n",
       "      <td>17</td>\n",
       "      <td>AL</td>\n",
       "    </tr>\n",
       "  </tbody>\n",
       "</table>\n",
       "</div>"
      ],
      "text/plain": [
       "   dob_yy  dob_mm  mrcntyfips mrcityfips state_name_mr  mrstatefips  apgar5  \\\n",
       "0    1982       1        1001        999       Alabama            1       5   \n",
       "1    1982       1        1001        999       Alabama            1       7   \n",
       "2    1982       1        1001        999       Alabama            1       8   \n",
       "3    1982       1        1001        999       Alabama            1       9   \n",
       "4    1982       1        1001        999       Alabama            1      10   \n",
       "\n",
       "   births state_abbr  \n",
       "0       1         AL  \n",
       "1       2         AL  \n",
       "2       6         AL  \n",
       "3      18         AL  \n",
       "4      17         AL  "
      ]
     },
     "execution_count": 6,
     "metadata": {},
     "output_type": "execute_result"
    }
   ],
   "source": [
    "\n",
    "# merge df_abbr with df on state_name_mr\n",
    "df = df.merge(df_abbr, how='left', on='state_name_mr')\n",
    "df.head()"
   ]
  },
  {
   "cell_type": "code",
   "execution_count": 7,
   "metadata": {},
   "outputs": [
    {
     "data": {
      "text/html": [
       "<div>\n",
       "<style scoped>\n",
       "    .dataframe tbody tr th:only-of-type {\n",
       "        vertical-align: middle;\n",
       "    }\n",
       "\n",
       "    .dataframe tbody tr th {\n",
       "        vertical-align: top;\n",
       "    }\n",
       "\n",
       "    .dataframe thead th {\n",
       "        text-align: right;\n",
       "    }\n",
       "</style>\n",
       "<table border=\"1\" class=\"dataframe\">\n",
       "  <thead>\n",
       "    <tr style=\"text-align: right;\">\n",
       "      <th></th>\n",
       "      <th>state_abbr</th>\n",
       "      <th>state_name_mr</th>\n",
       "      <th>dob_yy</th>\n",
       "      <th>births</th>\n",
       "    </tr>\n",
       "  </thead>\n",
       "  <tbody>\n",
       "    <tr>\n",
       "      <th>0</th>\n",
       "      <td>AK</td>\n",
       "      <td>Alaska</td>\n",
       "      <td>1982</td>\n",
       "      <td>11287</td>\n",
       "    </tr>\n",
       "    <tr>\n",
       "      <th>1</th>\n",
       "      <td>AK</td>\n",
       "      <td>Alaska</td>\n",
       "      <td>1983</td>\n",
       "      <td>11994</td>\n",
       "    </tr>\n",
       "    <tr>\n",
       "      <th>2</th>\n",
       "      <td>AK</td>\n",
       "      <td>Alaska</td>\n",
       "      <td>1984</td>\n",
       "      <td>12447</td>\n",
       "    </tr>\n",
       "    <tr>\n",
       "      <th>3</th>\n",
       "      <td>AK</td>\n",
       "      <td>Alaska</td>\n",
       "      <td>1985</td>\n",
       "      <td>12844</td>\n",
       "    </tr>\n",
       "    <tr>\n",
       "      <th>4</th>\n",
       "      <td>AK</td>\n",
       "      <td>Alaska</td>\n",
       "      <td>1986</td>\n",
       "      <td>12167</td>\n",
       "    </tr>\n",
       "  </tbody>\n",
       "</table>\n",
       "</div>"
      ],
      "text/plain": [
       "  state_abbr state_name_mr  dob_yy  births\n",
       "0         AK        Alaska    1982   11287\n",
       "1         AK        Alaska    1983   11994\n",
       "2         AK        Alaska    1984   12447\n",
       "3         AK        Alaska    1985   12844\n",
       "4         AK        Alaska    1986   12167"
      ]
     },
     "execution_count": 7,
     "metadata": {},
     "output_type": "execute_result"
    }
   ],
   "source": [
    "# drop dob_mm\tmrcntyfips\tmrcityfips\n",
    "df = df.drop(columns=['dob_mm', 'mrcntyfips', 'mrcityfips', 'apgar5', 'mrstatefips'])\n",
    "\n",
    "# get totals of births by state and dob_yy\n",
    "df = df.groupby(['state_abbr', 'state_name_mr', 'dob_yy'], as_index=False).sum()\n",
    "df.head()"
   ]
  },
  {
   "cell_type": "code",
   "execution_count": 8,
   "metadata": {},
   "outputs": [
    {
     "data": {
      "text/plain": [
       "array(['AK', 'AL', 'AR', 'AZ', 'CA', 'CO', 'CT', 'DC', 'DE', 'FL', 'GA',\n",
       "       'HI', 'IA', 'ID', 'IL', 'IN', 'KS', 'KY', 'LA', 'MA', 'MD', 'ME',\n",
       "       'MI', 'MN', 'MO', 'MS', 'MT', 'NC', 'ND', 'NE', 'NH', 'NJ', 'NM',\n",
       "       'NV', 'NY', 'OH', 'OK', 'OR', 'PA', 'RI', 'SC', 'SD', 'TN', 'TX',\n",
       "       'UT', 'VA', 'VT', 'WA', 'WI', 'WV', 'WY'], dtype=object)"
      ]
     },
     "execution_count": 8,
     "metadata": {},
     "output_type": "execute_result"
    }
   ],
   "source": [
    "df['state_abbr'].unique()"
   ]
  },
  {
   "cell_type": "code",
   "execution_count": 9,
   "metadata": {},
   "outputs": [],
   "source": [
    "# create dictionary with a tuple of the row, col coordinates as the key (row, col) and the state abbr as the value\n",
    "# the grid has 7 rows and 11 columns\n",
    "state_grid_dict = {\n",
    "    (0, 10): 'ME',\n",
    "    (1, 0): 'WA', (1, 1): 'ID', (1, 2): 'MT', (1, 3): 'ND', (1, 4): 'MN', (1, 5): 'IL', (1, 6): 'WI', (1, 7): 'MI',(1, 8): 'NY',(1, 9): 'VT', (1, 10): 'NH',\n",
    "    (2, 0): 'OR', (2, 1): 'NV', (2, 2): 'WY', (2, 3): 'SD', (2, 4): 'IA', (2, 5): 'IN', (2, 6): 'OH', (2, 7): 'PA', (2, 8): 'NJ', (2, 9): 'RI', (2, 10): 'MA',\n",
    "    (3, 0): 'CA', (3, 1): 'UT', (3, 2): 'CO', (3, 3): 'NE', (3, 4): 'MO', (3, 5): 'KY', (3, 6): 'WV', (3, 7): 'VA', (3, 8): 'MD', (3, 9): 'CT',\n",
    "    (4, 1): 'AZ', (4, 2): 'NM', (4, 3): 'KS', (4, 4): 'AR', (4, 5): 'TN', (4, 6): 'NC', (4, 7): 'SC', (4, 8): 'DC', (4, 9): 'DE',\n",
    "    (5, 3): 'OK', (5, 4): 'LA', (5, 5): 'MS', (5, 6): 'AL', (5, 7): 'GA', \n",
    "    (6, 0): 'HI', (6, 3): 'TX', (6, 8): 'FL',\n",
    "}"
   ]
  },
  {
   "cell_type": "code",
   "execution_count": 10,
   "metadata": {},
   "outputs": [
    {
     "data": {
      "text/plain": [
       "False"
      ]
     },
     "execution_count": 10,
     "metadata": {},
     "output_type": "execute_result"
    }
   ],
   "source": [
    "(1,25) in list(state_grid_dict.keys())"
   ]
  },
  {
   "cell_type": "code",
   "execution_count": 11,
   "metadata": {},
   "outputs": [
    {
     "data": {
      "text/plain": [
       "[1, 2, 3, 4, 5, 6, 7]"
      ]
     },
     "execution_count": 11,
     "metadata": {},
     "output_type": "execute_result"
    }
   ],
   "source": [
    "list(range(1,8))"
   ]
  },
  {
   "cell_type": "code",
   "execution_count": 14,
   "metadata": {},
   "outputs": [
    {
     "data": {
      "image/png": "[encoded data removed]",
      "text/plain": [
       "<Figure size 792x504 with 78 Axes>"
      ]
     },
     "metadata": {
      "needs_background": "light"
     },
     "output_type": "display_data"
    }
   ],
   "source": [
    "# square subplots https://matplotlib.org/devdocs/gallery/subplots_axes_and_figures/axes_box_aspect.html#box-aspect-for-many-subplots\n",
    "fig, ax = plt.subplots(nrows=7,ncols=11, figsize=(11, 7), \n",
    "    subplot_kw=dict(box_aspect=1),\n",
    "    gridspec_kw = {'wspace':0.1, 'hspace':0.1}, \n",
    "    # sharex=True, sharey=True\n",
    "    )\n",
    "# fig.tight_layout()\n",
    "\n",
    "# make each individual subplot tight to each other\n",
    "# fig.subplots_adjust(hspace=0.1, wspace=0.1)\n",
    "# fig.subplots_adjust(bottom=0.1,)\n",
    "\n",
    "# set the aspect ratio for each subplot to 1.0\n",
    "# for axi in fig.axes:\n",
    "#     axi.set_aspect('equal')\n",
    "\n",
    "dft = df[df['state_abbr']=='AK']\n",
    "\n",
    "for row in range(0,7):\n",
    "    for col in range(0,11):\n",
    "        if (row,col) in list(state_grid_dict.keys()):\n",
    "            dft = df[df['state_abbr']==state_grid_dict[(row,col)]]\n",
    "            ax[row,col].plot(dft['dob_yy'], dft['births'], 'o', color='blue', alpha=0.5)\n",
    "            ax[row,col].set(xticks=[], yticks=[])\n",
    "        else:\n",
    "            ax[row,col].axis('off')\n",
    "\n",
    "# ax[0,1].plot(dft['dob_yy'], dft['births'], 'o', color='blue', alpha=0.5)\n",
    "\n",
    "# [x0, y0, width, height]\n",
    "ax2 =fig.add_axes([0.5,1.0,0.3,0.3], aspect='equal')\n",
    "\n",
    "\n",
    "# # remove all axes labels and ticks\n",
    "# for axi in ax.flat:\n",
    "#     axi.set(xticks=[], yticks=[])\n",
    "    # axi.set_aspect('equal')\n",
    "# save the figure as a PNG\n",
    "# fig.savefig('births_by_state_dob_yy.png', bbox_inches='tight', dpi=300)\n",
    "\n",
    "plt.show()\n"
   ]
  },
  {
   "cell_type": "code",
   "execution_count": 55,
   "metadata": {},
   "outputs": [
    {
     "data": {
      "text/plain": [
       "array([ 1,  2,  3,  4,  5,  6,  7,  8,  9, 10])"
      ]
     },
     "execution_count": 55,
     "metadata": {},
     "output_type": "execute_result"
    }
   ],
   "source": [
    "np.arange(1,11)"
   ]
  },
  {
   "cell_type": "code",
   "execution_count": 57,
   "metadata": {},
   "outputs": [],
   "source": [
    "col_index, row_index = np.meshgrid(np.arange(1,12), np.arange(1,8))"
   ]
  },
  {
   "cell_type": "code",
   "execution_count": 59,
   "metadata": {},
   "outputs": [
    {
     "data": {
      "text/plain": [
       "(7, 11)"
      ]
     },
     "execution_count": 59,
     "metadata": {},
     "output_type": "execute_result"
    }
   ],
   "source": [
    "row_index.shape"
   ]
  },
  {
   "cell_type": "code",
   "execution_count": 52,
   "metadata": {},
   "outputs": [
    {
     "name": "stdout",
     "output_type": "stream",
     "text": [
      "AxesSubplot(0.125683,0.780658;0.0632177x0.0993421)\n",
      "AxesSubplot(0.196724,0.780658;0.0632177x0.0993421)\n",
      "AxesSubplot(0.267766,0.780658;0.0632177x0.0993421)\n",
      "AxesSubplot(0.338808,0.780658;0.0632177x0.0993421)\n",
      "AxesSubplot(0.409849,0.780658;0.0632177x0.0993421)\n",
      "AxesSubplot(0.480891,0.780658;0.0632177x0.0993421)\n",
      "AxesSubplot(0.551933,0.780658;0.0632177x0.0993421)\n",
      "AxesSubplot(0.622974,0.780658;0.0632177x0.0993421)\n",
      "AxesSubplot(0.694016,0.780658;0.0632177x0.0993421)\n",
      "AxesSubplot(0.765058,0.780658;0.0632177x0.0993421)\n",
      "AxesSubplot(0.836099,0.780658;0.0632177x0.0993421)\n",
      "AxesSubplot(0.125683,0.671382;0.0632177x0.0993421)\n",
      "AxesSubplot(0.196724,0.671382;0.0632177x0.0993421)\n",
      "AxesSubplot(0.267766,0.671382;0.0632177x0.0993421)\n",
      "AxesSubplot(0.338808,0.671382;0.0632177x0.0993421)\n",
      "AxesSubplot(0.409849,0.671382;0.0632177x0.0993421)\n",
      "AxesSubplot(0.480891,0.671382;0.0632177x0.0993421)\n",
      "AxesSubplot(0.551933,0.671382;0.0632177x0.0993421)\n",
      "AxesSubplot(0.622974,0.671382;0.0632177x0.0993421)\n",
      "AxesSubplot(0.694016,0.671382;0.0632177x0.0993421)\n",
      "AxesSubplot(0.765058,0.671382;0.0632177x0.0993421)\n",
      "AxesSubplot(0.836099,0.671382;0.0632177x0.0993421)\n",
      "AxesSubplot(0.125683,0.562105;0.0632177x0.0993421)\n",
      "AxesSubplot(0.196724,0.562105;0.0632177x0.0993421)\n",
      "AxesSubplot(0.267766,0.562105;0.0632177x0.0993421)\n",
      "AxesSubplot(0.338808,0.562105;0.0632177x0.0993421)\n",
      "AxesSubplot(0.409849,0.562105;0.0632177x0.0993421)\n",
      "AxesSubplot(0.480891,0.562105;0.0632177x0.0993421)\n",
      "AxesSubplot(0.551933,0.562105;0.0632177x0.0993421)\n",
      "AxesSubplot(0.622974,0.562105;0.0632177x0.0993421)\n",
      "AxesSubplot(0.694016,0.562105;0.0632177x0.0993421)\n",
      "AxesSubplot(0.765058,0.562105;0.0632177x0.0993421)\n",
      "AxesSubplot(0.836099,0.562105;0.0632177x0.0993421)\n",
      "AxesSubplot(0.125683,0.452829;0.0632177x0.0993421)\n",
      "AxesSubplot(0.196724,0.452829;0.0632177x0.0993421)\n",
      "AxesSubplot(0.267766,0.452829;0.0632177x0.0993421)\n",
      "AxesSubplot(0.338808,0.452829;0.0632177x0.0993421)\n",
      "AxesSubplot(0.409849,0.452829;0.0632177x0.0993421)\n",
      "AxesSubplot(0.480891,0.452829;0.0632177x0.0993421)\n",
      "AxesSubplot(0.551933,0.452829;0.0632177x0.0993421)\n",
      "AxesSubplot(0.622974,0.452829;0.0632177x0.0993421)\n",
      "AxesSubplot(0.694016,0.452829;0.0632177x0.0993421)\n",
      "AxesSubplot(0.765058,0.452829;0.0632177x0.0993421)\n",
      "AxesSubplot(0.836099,0.452829;0.0632177x0.0993421)\n",
      "AxesSubplot(0.125683,0.343553;0.0632177x0.0993421)\n",
      "AxesSubplot(0.196724,0.343553;0.0632177x0.0993421)\n",
      "AxesSubplot(0.267766,0.343553;0.0632177x0.0993421)\n",
      "AxesSubplot(0.338808,0.343553;0.0632177x0.0993421)\n",
      "AxesSubplot(0.409849,0.343553;0.0632177x0.0993421)\n",
      "AxesSubplot(0.480891,0.343553;0.0632177x0.0993421)\n",
      "AxesSubplot(0.551933,0.343553;0.0632177x0.0993421)\n",
      "AxesSubplot(0.622974,0.343553;0.0632177x0.0993421)\n",
      "AxesSubplot(0.694016,0.343553;0.0632177x0.0993421)\n",
      "AxesSubplot(0.765058,0.343553;0.0632177x0.0993421)\n",
      "AxesSubplot(0.836099,0.343553;0.0632177x0.0993421)\n",
      "AxesSubplot(0.125683,0.234276;0.0632177x0.0993421)\n",
      "AxesSubplot(0.196724,0.234276;0.0632177x0.0993421)\n",
      "AxesSubplot(0.267766,0.234276;0.0632177x0.0993421)\n",
      "AxesSubplot(0.338808,0.234276;0.0632177x0.0993421)\n",
      "AxesSubplot(0.409849,0.234276;0.0632177x0.0993421)\n",
      "AxesSubplot(0.480891,0.234276;0.0632177x0.0993421)\n",
      "AxesSubplot(0.551933,0.234276;0.0632177x0.0993421)\n",
      "AxesSubplot(0.622974,0.234276;0.0632177x0.0993421)\n",
      "AxesSubplot(0.694016,0.234276;0.0632177x0.0993421)\n",
      "AxesSubplot(0.765058,0.234276;0.0632177x0.0993421)\n",
      "AxesSubplot(0.836099,0.234276;0.0632177x0.0993421)\n",
      "AxesSubplot(0.125683,0.125;0.0632177x0.0993421)\n",
      "AxesSubplot(0.196724,0.125;0.0632177x0.0993421)\n",
      "AxesSubplot(0.267766,0.125;0.0632177x0.0993421)\n",
      "AxesSubplot(0.338808,0.125;0.0632177x0.0993421)\n",
      "AxesSubplot(0.409849,0.125;0.0632177x0.0993421)\n",
      "AxesSubplot(0.480891,0.125;0.0632177x0.0993421)\n",
      "AxesSubplot(0.551933,0.125;0.0632177x0.0993421)\n",
      "AxesSubplot(0.622974,0.125;0.0632177x0.0993421)\n",
      "AxesSubplot(0.694016,0.125;0.0632177x0.0993421)\n",
      "AxesSubplot(0.765058,0.125;0.0632177x0.0993421)\n",
      "AxesSubplot(0.836099,0.125;0.0632177x0.0993421)\n",
      "Axes(0.554545,1;0.190909x0.3)\n"
     ]
    }
   ],
   "source": [
    "for i, ax in enumerate(fig.axes):\n",
    "    print(ax)"
   ]
  },
  {
   "cell_type": "code",
   "execution_count": 31,
   "metadata": {},
   "outputs": [
    {
     "data": {
      "text/plain": [
       "0     1982\n",
       "1     1983\n",
       "2     1984\n",
       "3     1985\n",
       "4     1986\n",
       "5     1987\n",
       "6     1988\n",
       "7     1989\n",
       "8     1990\n",
       "9     1991\n",
       "10    1992\n",
       "11    1993\n",
       "12    1994\n",
       "13    1995\n",
       "14    1996\n",
       "15    1997\n",
       "16    1998\n",
       "17    1999\n",
       "18    2000\n",
       "19    2001\n",
       "20    2002\n",
       "21    2003\n",
       "22    2004\n",
       "Name: dob_yy, dtype: int64"
      ]
     },
     "execution_count": 31,
     "metadata": {},
     "output_type": "execute_result"
    }
   ],
   "source": [
    "dft.dob_yy"
   ]
  },
  {
   "cell_type": "code",
   "execution_count": null,
   "metadata": {},
   "outputs": [],
   "source": []
  }
 ],
 "metadata": {
  "interpreter": {
   "hash": "2cd1d96176637bf253591a6809fe5298717a51fdca1c0606421ece9124eefcf3"
  },
  "kernelspec": {
   "display_name": "Python 3.8.12 ('cdcbirth')",
   "language": "python",
   "name": "python3"
  },
  "language_info": {
   "codemirror_mode": {
    "name": "ipython",
    "version": 3
   },
   "file_extension": ".py",
   "mimetype": "text/x-python",
   "name": "python",
   "nbconvert_exporter": "python",
   "pygments_lexer": "ipython3",
   "version": "3.8.12"
  },
  "orig_nbformat": 4
 },
 "nbformat": 4,
 "nbformat_minor": 2
}
