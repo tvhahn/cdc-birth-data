{
 "cells": [
  {
   "cell_type": "code",
   "execution_count": 2,
   "metadata": {},
   "outputs": [],
   "source": [
    "import pandas as pd\n",
    "import numpy as np\n",
    "from pathlib import Path"
   ]
  },
  {
   "cell_type": "code",
   "execution_count": 7,
   "metadata": {},
   "outputs": [
    {
     "name": "stdout",
     "output_type": "stream",
     "text": [
      "/home/tim/Documents/cdc-birth-data/data/raw/desc\n"
     ]
    }
   ],
   "source": [
    "root_dir = Path.cwd().parent.parent\n",
    "folder_desc_data = root_dir / 'data/raw/desc/'\n",
    "print(folder_desc_data)\n"
   ]
  },
  {
   "cell_type": "code",
   "execution_count": 57,
   "metadata": {},
   "outputs": [
    {
     "data": {
      "text/html": [
       "<div>\n",
       "<style scoped>\n",
       "    .dataframe tbody tr th:only-of-type {\n",
       "        vertical-align: middle;\n",
       "    }\n",
       "\n",
       "    .dataframe tbody tr th {\n",
       "        vertical-align: top;\n",
       "    }\n",
       "\n",
       "    .dataframe thead th {\n",
       "        text-align: right;\n",
       "    }\n",
       "</style>\n",
       "<table border=\"1\" class=\"dataframe\">\n",
       "  <thead>\n",
       "    <tr style=\"text-align: right;\">\n",
       "      <th></th>\n",
       "      <th>var_name</th>\n",
       "      <th>storage_type</th>\n",
       "      <th>disp_format</th>\n",
       "      <th>var_label</th>\n",
       "    </tr>\n",
       "  </thead>\n",
       "  <tbody>\n",
       "    <tr>\n",
       "      <th>0</th>\n",
       "      <td>datayear</td>\n",
       "      <td>byte</td>\n",
       "      <td>%8.0g</td>\n",
       "      <td>Data year</td>\n",
       "    </tr>\n",
       "    <tr>\n",
       "      <th>1</th>\n",
       "      <td>shipnum</td>\n",
       "      <td>str2</td>\n",
       "      <td>%9s</td>\n",
       "      <td>Shipment number</td>\n",
       "    </tr>\n",
       "    <tr>\n",
       "      <th>2</th>\n",
       "      <td>reparea</td>\n",
       "      <td>str1</td>\n",
       "      <td>%9s</td>\n",
       "      <td>Reporting Area</td>\n",
       "    </tr>\n",
       "    <tr>\n",
       "      <th>3</th>\n",
       "      <td>rectype</td>\n",
       "      <td>byte</td>\n",
       "      <td>%8.0g</td>\n",
       "      <td>Record type</td>\n",
       "    </tr>\n",
       "    <tr>\n",
       "      <th>4</th>\n",
       "      <td>restatus</td>\n",
       "      <td>byte</td>\n",
       "      <td>%8.0g</td>\n",
       "      <td>Resident status</td>\n",
       "    </tr>\n",
       "  </tbody>\n",
       "</table>\n",
       "</div>"
      ],
      "text/plain": [
       "   var_name storage_type disp_format        var_label\n",
       "0  datayear         byte       %8.0g        Data year\n",
       "1   shipnum         str2         %9s  Shipment number\n",
       "2   reparea         str1         %9s   Reporting Area\n",
       "3   rectype         byte       %8.0g      Record type\n",
       "4  restatus         byte       %8.0g  Resident status"
      ]
     },
     "execution_count": 57,
     "metadata": {},
     "output_type": "execute_result"
    }
   ],
   "source": [
    "year = 1973\n",
    "\n",
    "\n",
    "# load a single txt file in folder_desc_data using pandas\n",
    "df = pd.read_fwf(\n",
    "    folder_desc_data / f'{year}.txt', \n",
    "    skiprows=11,\n",
    "    skipfooter=5,\n",
    "    colspecs=[(0,15), (15,23), (23,45), (45,-1)],\n",
    "    names=['var_name', 'storage_type', 'disp_format', 'var_label']\n",
    "    )\n",
    "\n",
    "\n",
    "df.head()"
   ]
  },
  {
   "cell_type": "code",
   "execution_count": null,
   "metadata": {},
   "outputs": [],
   "source": []
  }
 ],
 "metadata": {
  "interpreter": {
   "hash": "2cd1d96176637bf253591a6809fe5298717a51fdca1c0606421ece9124eefcf3"
  },
  "kernelspec": {
   "display_name": "Python 3.8.12 ('cdcbirth')",
   "language": "python",
   "name": "python3"
  },
  "language_info": {
   "codemirror_mode": {
    "name": "ipython",
    "version": 3
   },
   "file_extension": ".py",
   "mimetype": "text/x-python",
   "name": "python",
   "nbconvert_exporter": "python",
   "pygments_lexer": "ipython3",
   "version": "3.8.12"
  },
  "orig_nbformat": 4
 },
 "nbformat": 4,
 "nbformat_minor": 2
}
