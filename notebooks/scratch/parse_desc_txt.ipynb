{
 "cells": [
  {
   "cell_type": "code",
   "execution_count": 2,
   "metadata": {},
   "outputs": [],
   "source": [
    "import pandas as pd\n",
    "import numpy as np\n",
    "from pathlib import Path"
   ]
  },
  {
   "cell_type": "code",
   "execution_count": 7,
   "metadata": {},
   "outputs": [
    {
     "name": "stdout",
     "output_type": "stream",
     "text": [
      "/home/tim/Documents/cdc-birth-data/data/raw/desc\n"
     ]
    }
   ],
   "source": [
    "root_dir = Path.cwd().parent.parent\n",
    "folder_desc_data = root_dir / 'data/raw/desc/'\n",
    "print(folder_desc_data)\n"
   ]
  },
  {
   "cell_type": "code",
   "execution_count": 85,
   "metadata": {},
   "outputs": [],
   "source": [
    "desc_dict = {\n",
    "    1968: {'colspecs': [(0,15), (15,23), (23,45), (45,-1)], 'skiprows': 11, 'skipfooter': 2},\n",
    "    1969: {'colspecs': [(0,15), (15,23), (23,45), (45,-1)], 'skiprows': 11, 'skipfooter': 2},\n",
    "    1970: {'colspecs': [(0,15), (15,23), (23,45), (45,-1)], 'skiprows': 11, 'skipfooter': 2},\n",
    "    1971: {'colspecs': [(0,15), (15,23), (23,45), (45,-1)], 'skiprows': 11, 'skipfooter': 2},\n",
    "    1972: {'colspecs': [(0,15), (15,23), (23,45), (45,-1)], 'skiprows': 11, 'skipfooter': 2},\n",
    "    1973: {'colspecs': [(0,15), (15,23), (23,45), (45,-1)], 'skiprows': 11, 'skipfooter': 2},\n",
    "    1974: {'colspecs': [(0,15), (15,23), (23,45), (45,-1)], 'skiprows': 11, 'skipfooter': 2},\n",
    "    1975: {'colspecs': [(0,15), (15,23), (23,45), (45,-1)], 'skiprows': 11, 'skipfooter': 2},\n",
    "    1976: {'colspecs': [(0,15), (15,23), (23,45), (45,-1)], 'skiprows': 11, 'skipfooter': 2},\n",
    "    1977: {'colspecs': [(0,15), (15,23), (23,45), (45,-1)], 'skiprows': 11, 'skipfooter': 2},\n",
    "    1978: {'colspecs': [(0,15), (15,23), (23,45), (45,-1)], 'skiprows': 11, 'skipfooter': 2},\n",
    "    1979: {'colspecs': [(0,15), (15,23), (23,45), (45,-1)], 'skiprows': 11, 'skipfooter': 2},\n",
    "    1980: {'colspecs': [(0,15), (15,23), (23,45), (45,-1)], 'skiprows': 11, 'skipfooter': 2},\n",
    "    1981: {'colspecs': [(0,15), (15,23), (23,45), (45,-1)], 'skiprows': 11, 'skipfooter': 2},\n",
    "    1982: {'colspecs': [(0,15), (15,23), (23,45), (45,-1)], 'skiprows': 11, 'skipfooter': 2},\n",
    "    1983: {'colspecs': [(0,15), (15,23), (23,45), (45,-1)], 'skiprows': 11, 'skipfooter': 2},\n",
    "    1984: {'colspecs': [(0,15), (15,23), (23,45), (45,-1)], 'skiprows': 11, 'skipfooter': 2},\n",
    "    1985: {'colspecs': [(0,15), (15,23), (23,45), (45,-1)], 'skiprows': 11, 'skipfooter': 2},\n",
    "    1986: {'colspecs': [(0,15), (15,23), (23,45), (45,-1)], 'skiprows': 11, 'skipfooter': 2},\n",
    "    1987: {'colspecs': [(0,15), (15,23), (23,45), (45,-1)], 'skiprows': 11, 'skipfooter': 2},\n",
    "    1988: {'colspecs': [(0,15), (15,23), (23,45), (45,-1)], 'skiprows': 11, 'skipfooter': 2},\n",
    "    1989: {'colspecs': [(0,15), (15,23), (23,45), (45,-1)], 'skiprows': 11, 'skipfooter': 2},\n",
    "    1990: {'colspecs': [(0,15), (15,23), (23,45), (45,-1)], 'skiprows': 11, 'skipfooter': 2},\n",
    "    1991: {'colspecs': [(0,15), (15,23), (23,45), (45,-1)], 'skiprows': 11, 'skipfooter': 2},\n",
    "    1992: {'colspecs': [(0,15), (15,23), (23,45), (45,-1)], 'skiprows': 11, 'skipfooter': 2},\n",
    "    1993: {'colspecs': [(0,15), (15,23), (23,45), (45,-1)], 'skiprows': 11, 'skipfooter': 2},\n",
    "    1994: {'colspecs': [(0,15), (15,23), (23,45), (45,-1)], 'skiprows': 11, 'skipfooter': 2},\n",
    "    1995: {'colspecs': [(0,15), (15,23), (23,45), (45,-1)], 'skiprows': 11, 'skipfooter': 2},\n",
    "    1996: {'colspecs': [(0,15), (15,23), (23,45), (45,-1)], 'skiprows': 11, 'skipfooter': 2},\n",
    "    1997: {'colspecs': [(0,15), (15,23), (23,45), (45,-1)], 'skiprows': 11, 'skipfooter': 2},\n",
    "    1998: {'colspecs': [(0,15), (15,23), (23,45), (45,-1)], 'skiprows': 11, 'skipfooter': 2},\n",
    "    1999: {'colspecs': [(0,15), (15,23), (23,45), (45,-1)], 'skiprows': 11, 'skipfooter': 2},\n",
    "    2000: {'colspecs': [(0,15), (15,23), (23,45), (45,-1)], 'skiprows': 11, 'skipfooter': 2},\n",
    "    2001: {'colspecs': [(0,15), (15,23), (23,45), (45,-1)], 'skiprows': 11, 'skipfooter': 2},\n",
    "\n",
    "}"
   ]
  },
  {
   "cell_type": "code",
   "execution_count": 90,
   "metadata": {},
   "outputs": [
    {
     "data": {
      "text/html": [
       "<div>\n",
       "<style scoped>\n",
       "    .dataframe tbody tr th:only-of-type {\n",
       "        vertical-align: middle;\n",
       "    }\n",
       "\n",
       "    .dataframe tbody tr th {\n",
       "        vertical-align: top;\n",
       "    }\n",
       "\n",
       "    .dataframe thead th {\n",
       "        text-align: right;\n",
       "    }\n",
       "</style>\n",
       "<table border=\"1\" class=\"dataframe\">\n",
       "  <thead>\n",
       "    <tr style=\"text-align: right;\">\n",
       "      <th></th>\n",
       "      <th>var_name</th>\n",
       "      <th>storage_type</th>\n",
       "      <th>disp_format</th>\n",
       "      <th>var_label</th>\n",
       "    </tr>\n",
       "  </thead>\n",
       "  <tbody>\n",
       "    <tr>\n",
       "      <th>0</th>\n",
       "      <td>datayear</td>\n",
       "      <td>int</td>\n",
       "      <td>%8.0g</td>\n",
       "      <td>Year Birth of Child (Data Year)</td>\n",
       "    </tr>\n",
       "    <tr>\n",
       "      <th>1</th>\n",
       "      <td>rectype</td>\n",
       "      <td>byte</td>\n",
       "      <td>%8.0g</td>\n",
       "      <td>Record Type</td>\n",
       "    </tr>\n",
       "    <tr>\n",
       "      <th>2</th>\n",
       "      <td>restatus</td>\n",
       "      <td>byte</td>\n",
       "      <td>%8.0g</td>\n",
       "      <td>Resident Status</td>\n",
       "    </tr>\n",
       "    <tr>\n",
       "      <th>3</th>\n",
       "      <td>recwt</td>\n",
       "      <td>byte</td>\n",
       "      <td>%8.0g</td>\n",
       "      <td>Record Weight</td>\n",
       "    </tr>\n",
       "    <tr>\n",
       "      <th>4</th>\n",
       "      <td>pldel</td>\n",
       "      <td>byte</td>\n",
       "      <td>%8.0g</td>\n",
       "      <td>Place or Facility of Birth</td>\n",
       "    </tr>\n",
       "  </tbody>\n",
       "</table>\n",
       "</div>"
      ],
      "text/plain": [
       "   var_name storage_type disp_format                        var_label\n",
       "0  datayear          int       %8.0g  Year Birth of Child (Data Year)\n",
       "1   rectype         byte       %8.0g                      Record Type\n",
       "2  restatus         byte       %8.0g                  Resident Status\n",
       "3     recwt         byte       %8.0g                    Record Weight\n",
       "4     pldel         byte       %8.0g       Place or Facility of Birth"
      ]
     },
     "execution_count": 90,
     "metadata": {},
     "output_type": "execute_result"
    }
   ],
   "source": [
    "year = 2001\n",
    "\n",
    "\n",
    "# load a single txt file in folder_desc_data using pandas\n",
    "df = pd.read_fwf(\n",
    "    folder_desc_data / f'{year}.txt', \n",
    "    skiprows=desc_dict[year]['skiprows'],\n",
    "    skipfooter=desc_dict[year]['skipfooter'],\n",
    "    colspecs=desc_dict[year]['colspecs'],\n",
    "    names=['var_name', 'storage_type', 'disp_format', 'var_label']\n",
    "    )\n",
    "\n",
    "\n",
    "df.head()"
   ]
  },
  {
   "cell_type": "code",
   "execution_count": 89,
   "metadata": {},
   "outputs": [
    {
     "data": {
      "text/html": [
       "<div>\n",
       "<style scoped>\n",
       "    .dataframe tbody tr th:only-of-type {\n",
       "        vertical-align: middle;\n",
       "    }\n",
       "\n",
       "    .dataframe tbody tr th {\n",
       "        vertical-align: top;\n",
       "    }\n",
       "\n",
       "    .dataframe thead th {\n",
       "        text-align: right;\n",
       "    }\n",
       "</style>\n",
       "<table border=\"1\" class=\"dataframe\">\n",
       "  <thead>\n",
       "    <tr style=\"text-align: right;\">\n",
       "      <th></th>\n",
       "      <th>var_name</th>\n",
       "      <th>storage_type</th>\n",
       "      <th>disp_format</th>\n",
       "      <th>var_label</th>\n",
       "    </tr>\n",
       "  </thead>\n",
       "  <tbody>\n",
       "    <tr>\n",
       "      <th>0</th>\n",
       "      <td>datayear</td>\n",
       "      <td>byte</td>\n",
       "      <td>%8.0g</td>\n",
       "      <td>Data year</td>\n",
       "    </tr>\n",
       "    <tr>\n",
       "      <th>1</th>\n",
       "      <td>rectype</td>\n",
       "      <td>byte</td>\n",
       "      <td>%8.0g</td>\n",
       "      <td>Record type</td>\n",
       "    </tr>\n",
       "    <tr>\n",
       "      <th>2</th>\n",
       "      <td>restatus</td>\n",
       "      <td>byte</td>\n",
       "      <td>%8.0g</td>\n",
       "      <td>Resident status</td>\n",
       "    </tr>\n",
       "    <tr>\n",
       "      <th>3</th>\n",
       "      <td>stateres</td>\n",
       "      <td>str2</td>\n",
       "      <td>%9s</td>\n",
       "      <td>NCHS State of Residence</td>\n",
       "    </tr>\n",
       "    <tr>\n",
       "      <th>4</th>\n",
       "      <td>cntyres</td>\n",
       "      <td>str5</td>\n",
       "      <td>%9s</td>\n",
       "      <td>NCHS County of Residence</td>\n",
       "    </tr>\n",
       "  </tbody>\n",
       "</table>\n",
       "</div>"
      ],
      "text/plain": [
       "   var_name storage_type disp_format                 var_label\n",
       "0  datayear         byte       %8.0g                 Data year\n",
       "1   rectype         byte       %8.0g               Record type\n",
       "2  restatus         byte       %8.0g           Resident status\n",
       "3  stateres         str2         %9s   NCHS State of Residence\n",
       "4   cntyres         str5         %9s  NCHS County of Residence"
      ]
     },
     "execution_count": 89,
     "metadata": {},
     "output_type": "execute_result"
    }
   ],
   "source": [
    "df.head()"
   ]
  },
  {
   "cell_type": "code",
   "execution_count": null,
   "metadata": {},
   "outputs": [],
   "source": []
  }
 ],
 "metadata": {
  "interpreter": {
   "hash": "2cd1d96176637bf253591a6809fe5298717a51fdca1c0606421ece9124eefcf3"
  },
  "kernelspec": {
   "display_name": "Python 3.8.12 ('cdcbirth')",
   "language": "python",
   "name": "python3"
  },
  "language_info": {
   "codemirror_mode": {
    "name": "ipython",
    "version": 3
   },
   "file_extension": ".py",
   "mimetype": "text/x-python",
   "name": "python",
   "nbconvert_exporter": "python",
   "pygments_lexer": "ipython3",
   "version": "3.8.12"
  },
  "orig_nbformat": 4
 },
 "nbformat": 4,
 "nbformat_minor": 2
}
